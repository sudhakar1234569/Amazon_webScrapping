{
 "cells": [
  {
   "cell_type": "markdown",
   "metadata": {},
   "source": [
    "# Amazon Web scraper \n",
    "<img src='amazon.jpg' width=400>\n",
    "\n",
    "###  Importing modules"
   ]
  },
  {
   "cell_type": "code",
   "execution_count": 6,
   "metadata": {},
   "outputs": [],
   "source": [
    "import csv \n",
    "from bs4 import BeautifulSoup\n",
    "# Firefox or chrome \n",
    "from selenium import webdriver"
   ]
  },
  {
   "cell_type": "markdown",
   "metadata": {},
   "source": [
    "### Startup the webdriver"
   ]
  },
  {
   "cell_type": "code",
   "execution_count": 10,
   "metadata": {},
   "outputs": [],
   "source": [
    "# Using chrome \n",
    "driver = webdriver.Chrome()\n",
    "url = 'https://www.amazon.com/gp/help/customer/display.html?nodeId=202073580'\n",
    "driver.get(url)"
   ]
  },
  {
   "cell_type": "code",
   "execution_count": 143,
   "metadata": {},
   "outputs": [],
   "source": [
    "#create function to search particular products:\n",
    "\n",
    "def get_val(some):\n",
    "    url_val = 'https://www.amazon.com/s?k={}&crid=1AZQR15WRQJRI&sprefix=shirt+for+men%2Caps%2C446&ref=nb_sb_ss_ts-doa-p_1_13'\n",
    "    some = some.replace(' ','+')\n",
    "    return url_val.format(some)"
   ]
  },
  {
   "cell_type": "markdown",
   "metadata": {},
   "source": [
    "### casual shirts search link"
   ]
  },
  {
   "cell_type": "code",
   "execution_count": 144,
   "metadata": {},
   "outputs": [
    {
     "name": "stdout",
     "output_type": "stream",
     "text": [
      "casual shirts search link :\n",
      " https://www.amazon.com/s?k=casual+Shirts&crid=1AZQR15WRQJRI&sprefix=shirt+for+men%2Caps%2C446&ref=nb_sb_ss_ts-doa-p_1_13\n"
     ]
    }
   ],
   "source": [
    "# Search something;\n",
    "url = get_val('casual Shirts')\n",
    "print(\"casual shirts search link :\\n\",url)"
   ]
  },
  {
   "cell_type": "code",
   "execution_count": 13,
   "metadata": {},
   "outputs": [],
   "source": [
    "driver.get(url)"
   ]
  },
  {
   "cell_type": "markdown",
   "metadata": {},
   "source": [
    "### Extract all datas"
   ]
  },
  {
   "cell_type": "code",
   "execution_count": 97,
   "metadata": {},
   "outputs": [
    {
     "name": "stdout",
     "output_type": "stream",
     "text": [
      "Total results: 60\n"
     ]
    }
   ],
   "source": [
    "soup = BeautifulSoup(driver.page_source,'html.parser')\n",
    "res = soup.find_all('div',{'data-component-type':'s-search-result'})\n",
    "print(\"Total results: \"+str(len(res)))"
   ]
  },
  {
   "cell_type": "markdown",
   "metadata": {},
   "source": [
    "### Prototype for datas"
   ]
  },
  {
   "cell_type": "code",
   "execution_count": 63,
   "metadata": {},
   "outputs": [],
   "source": [
    "item = res[0]\n",
    "#get link\n",
    "atag = item.h2.a\n"
   ]
  },
  {
   "cell_type": "code",
   "execution_count": null,
   "metadata": {},
   "outputs": [],
   "source": [
    "#find the item description:\n",
    "descrip =atag.text.strip()\n",
    "descrip"
   ]
  },
  {
   "cell_type": "code",
   "execution_count": 36,
   "metadata": {
    "scrolled": true
   },
   "outputs": [],
   "source": [
    "# Get the link of product\n",
    "url_val2 = 'https://www.amazon.com/'+atag.get('href')"
   ]
  },
  {
   "cell_type": "code",
   "execution_count": 40,
   "metadata": {},
   "outputs": [],
   "source": [
    "#Find the price of the product:\n",
    "price_parent = item.find('span','a-price')\n",
    "\n",
    "price = price_parent.find('span','a-offscreen').text"
   ]
  },
  {
   "cell_type": "code",
   "execution_count": 61,
   "metadata": {},
   "outputs": [
    {
     "data": {
      "text/plain": [
       "'4.3 out of 5 stars'"
      ]
     },
     "execution_count": 61,
     "metadata": {},
     "output_type": "execute_result"
    }
   ],
   "source": [
    "# Find the product ratings\n",
    "rating = item.i.text\n",
    "rating"
   ]
  },
  {
   "cell_type": "code",
   "execution_count": 59,
   "metadata": {},
   "outputs": [
    {
     "data": {
      "text/plain": [
       "'359'"
      ]
     },
     "execution_count": 59,
     "metadata": {},
     "output_type": "execute_result"
    }
   ],
   "source": [
    "# Find the review count:\n",
    "review_count = item.find('span',{'class':'a-size-base'}).text\n",
    "review_count"
   ]
  },
  {
   "cell_type": "markdown",
   "metadata": {},
   "source": [
    "### Generalize pattern:"
   ]
  },
  {
   "cell_type": "code",
   "execution_count": 81,
   "metadata": {},
   "outputs": [],
   "source": [
    "def extract_record(item):\n",
    "    #Description and url\n",
    "    atag = item.h2.a\n",
    "    descrip =atag.text.strip()\n",
    "    url_val2 = 'https://www.amazon.com/'+atag.get('href')\n",
    "    try:\n",
    "     # price:\n",
    "        price_parent = item.find('span','a-price')\n",
    "        price = price_parent.find('span','a-offscreen').text\n",
    "    except AttributeError:\n",
    "        return\n",
    "    try:\n",
    "        # ranting and reviewCount:\n",
    "        rating = item.i.text\n",
    "        review_count = item.find('span',{'class':'a-size-base'}).text\n",
    "    except AttributeError:\n",
    "        rating =''\n",
    "        review_count = ''\n",
    "    \n",
    "    result = (descrip,price,rating,review_count,url_val2)\n",
    "    return result"
   ]
  },
  {
   "cell_type": "code",
   "execution_count": 132,
   "metadata": {},
   "outputs": [],
   "source": [
    "records = []\n",
    "results = soup.find_all('div',{'data-component-type':'s-search-result'}) \n",
    "\n",
    "for item in results:\n",
    "    record = extract_record(item)\n",
    "    if record:\n",
    "        records.append(record)"
   ]
  },
  {
   "cell_type": "markdown",
   "metadata": {},
   "source": [
    "### View 1st record  data"
   ]
  },
  {
   "cell_type": "code",
   "execution_count": 133,
   "metadata": {
    "scrolled": true
   },
   "outputs": [
    {
     "data": {
      "text/plain": [
       "(\"Grace's Secret WomensTops Summer Top for Women Short Sleeve Casual Loose Tunic Top Shirts\",\n",
       " '$18.99',\n",
       " '4.3 out of 5 stars',\n",
       " '359',\n",
       " 'https://www.amazon.com//gp/slredirect/picassoRedirect.html/ref=pa_sp_atf_aps_sr_pg1_1?ie=UTF8&adId=A090332919KGPRHGT8U1T&url=%2FGraces-Secret-Womens-Summer-SealBrown%2Fdp%2FB094JBNX9X%2Fref%3Dsr_1_1_sspa%3Fcrid%3D1AZQR15WRQJRI%26dchild%3D1%26keywords%3Dcasual%2BShirts%26qid%3D1621928577%26sprefix%3Dshirt%2Bfor%2Bmen%252Caps%252C446%26sr%3D8-1-spons%26psc%3D1&qualifier=1621928577&id=6123135377136169&widgetName=sp_atf')"
      ]
     },
     "execution_count": 133,
     "metadata": {},
     "output_type": "execute_result"
    }
   ],
   "source": [
    "records[0]"
   ]
  },
  {
   "cell_type": "markdown",
   "metadata": {},
   "source": [
    "### Display the all price values:"
   ]
  },
  {
   "cell_type": "code",
   "execution_count": 134,
   "metadata": {},
   "outputs": [
    {
     "data": {
      "text/plain": [
       "['$18.99',\n",
       " '$17.97',\n",
       " '$13.30',\n",
       " '$21.99',\n",
       " '$16.00',\n",
       " '$26.52',\n",
       " '$17.69',\n",
       " '$22.50',\n",
       " '$17.89',\n",
       " '$29.50',\n",
       " '$21.94',\n",
       " '$19.99',\n",
       " '$22.98',\n",
       " '$25.99',\n",
       " '$17.99',\n",
       " '$10.00',\n",
       " '$18.90',\n",
       " '$19.40',\n",
       " '$14.99',\n",
       " '$18.99',\n",
       " '$25.90',\n",
       " '$45.00',\n",
       " '$17.16',\n",
       " '$34.99',\n",
       " '$16.90',\n",
       " '$24.19',\n",
       " '$22.99',\n",
       " '$9.99',\n",
       " '$18.98',\n",
       " '$25.00',\n",
       " '$16.14',\n",
       " '$32.79',\n",
       " '$21.99',\n",
       " '$26.99',\n",
       " '$21.08',\n",
       " '$18.90',\n",
       " '$19.45',\n",
       " '$28.99',\n",
       " '$19.99',\n",
       " '$18.90',\n",
       " '$16.10',\n",
       " '$23.48',\n",
       " '$16.99',\n",
       " '$24.99',\n",
       " '$22.10',\n",
       " '$22.56',\n",
       " '$21.83',\n",
       " '$29.99',\n",
       " '$16.40',\n",
       " '$12.00',\n",
       " '$34.94',\n",
       " '$18.99',\n",
       " '$23.98',\n",
       " '$29.99',\n",
       " '$15.99',\n",
       " '$12.82']"
      ]
     },
     "execution_count": 134,
     "metadata": {},
     "output_type": "execute_result"
    }
   ],
   "source": [
    "prices = []\n",
    "for i in records:\n",
    "    prices.append(i[1])\n",
    "prices"
   ]
  },
  {
   "cell_type": "markdown",
   "metadata": {},
   "source": [
    "### Store the records to csv file:"
   ]
  },
  {
   "cell_type": "code",
   "execution_count": 135,
   "metadata": {},
   "outputs": [],
   "source": [
    "\n",
    "#Create csv file and store the datas:\n",
    "with open('Records2.csv','w',newline='',encoding='utf-8') as f:\n",
    "        writer = csv.writer(f)\n",
    "        writer.writerow(['Description','Prices','Rating','ReviewCount','URL'])\n",
    "        writer.writerows(records)\n",
    "    "
   ]
  }
 ],
 "metadata": {
  "kernelspec": {
   "display_name": "Python 3",
   "language": "python",
   "name": "python3"
  },
  "language_info": {
   "codemirror_mode": {
    "name": "ipython",
    "version": 3
   },
   "file_extension": ".py",
   "mimetype": "text/x-python",
   "name": "python",
   "nbconvert_exporter": "python",
   "pygments_lexer": "ipython3",
   "version": "3.8.5"
  }
 },
 "nbformat": 4,
 "nbformat_minor": 4
}
